{
 "cells": [
  {
   "cell_type": "code",
   "execution_count": 2,
   "metadata": {},
   "outputs": [
    {
     "name": "stdout",
     "output_type": "stream",
     "text": [
      " \n",
      "Resultados:\n",
      " \n"
     ]
    },
    {
     "name": "stderr",
     "output_type": "stream",
     "text": [
      "Exception in Tkinter callback\n",
      "Traceback (most recent call last):\n",
      "  File \"C:\\Apps\\Python310\\lib\\tkinter\\__init__.py\", line 1921, in __call__\n",
      "    return self.func(*args)\n",
      "  File \"c:\\Users\\s41800\\OneDrive - Interbank\\Documentos\\Proyectos\\env_python\\libs\\configFunx.py\", line 450, in download_files\n",
      "    dowload_files_he(periodo, cartera, output_version)\n",
      "  File \"c:\\Users\\s41800\\OneDrive - Interbank\\Documentos\\Proyectos\\env_python\\libs\\configFunx.py\", line 407, in dowload_files_he\n",
      "    prefix_files = f'{carpet_prefix}/{cal_year(year)}/Impactos/Notebooks/{periodo}/{cartera.upper()}/output_v{output_version}'\n",
      "NameError: name 'carpet_prefix' is not defined\n"
     ]
    },
    {
     "ename": "TclError",
     "evalue": "can't invoke \"destroy\" command: application has been destroyed",
     "output_type": "error",
     "traceback": [
      "\u001b[1;31m---------------------------------------------------------------------------\u001b[0m",
      "\u001b[1;31mTclError\u001b[0m                                  Traceback (most recent call last)",
      "Cell \u001b[1;32mIn[2], line 51\u001b[0m\n\u001b[0;32m     49\u001b[0m create_download_tab(root, download_tab)\n\u001b[0;32m     50\u001b[0m root\u001b[38;5;241m.\u001b[39mmainloop()\n\u001b[1;32m---> 51\u001b[0m \u001b[43mroot\u001b[49m\u001b[38;5;241;43m.\u001b[39;49m\u001b[43mdestroy\u001b[49m\u001b[43m(\u001b[49m\u001b[43m)\u001b[49m\n",
      "File \u001b[1;32mC:\\Apps\\Python310\\lib\\tkinter\\__init__.py:2341\u001b[0m, in \u001b[0;36mTk.destroy\u001b[1;34m(self)\u001b[0m\n\u001b[0;32m   2338\u001b[0m \u001b[38;5;250m\u001b[39m\u001b[38;5;124;03m\"\"\"Destroy this and all descendants widgets. This will\u001b[39;00m\n\u001b[0;32m   2339\u001b[0m \u001b[38;5;124;03mend the application of this Tcl interpreter.\"\"\"\u001b[39;00m\n\u001b[0;32m   2340\u001b[0m \u001b[38;5;28;01mfor\u001b[39;00m c \u001b[38;5;129;01min\u001b[39;00m \u001b[38;5;28mlist\u001b[39m(\u001b[38;5;28mself\u001b[39m\u001b[38;5;241m.\u001b[39mchildren\u001b[38;5;241m.\u001b[39mvalues()): c\u001b[38;5;241m.\u001b[39mdestroy()\n\u001b[1;32m-> 2341\u001b[0m \u001b[38;5;28;43mself\u001b[39;49m\u001b[38;5;241;43m.\u001b[39;49m\u001b[43mtk\u001b[49m\u001b[38;5;241;43m.\u001b[39;49m\u001b[43mcall\u001b[49m\u001b[43m(\u001b[49m\u001b[38;5;124;43m'\u001b[39;49m\u001b[38;5;124;43mdestroy\u001b[39;49m\u001b[38;5;124;43m'\u001b[39;49m\u001b[43m,\u001b[49m\u001b[43m \u001b[49m\u001b[38;5;28;43mself\u001b[39;49m\u001b[38;5;241;43m.\u001b[39;49m\u001b[43m_w\u001b[49m\u001b[43m)\u001b[49m\n\u001b[0;32m   2342\u001b[0m Misc\u001b[38;5;241m.\u001b[39mdestroy(\u001b[38;5;28mself\u001b[39m)\n\u001b[0;32m   2343\u001b[0m \u001b[38;5;28;01mglobal\u001b[39;00m _default_root\n",
      "\u001b[1;31mTclError\u001b[0m: can't invoke \"destroy\" command: application has been destroyed"
     ]
    }
   ],
   "source": [
    "import tkinter as tk\n",
    "from tkinter import ttk\n",
    "from configFunx import *\n",
    "from datetime import datetime\n",
    "\n",
    "\n",
    "##############################################################################################################\n",
    "# Cargar tokens desde el archivo\n",
    "aws_access_key_id, aws_secret_access_key, aws_session_token = load_tokens()\n",
    "\n",
    "try:\n",
    "    while not test_connection():\n",
    "        aws_access_key_id, aws_secret_access_key, aws_session_token = request_new_tokens()\n",
    "    # messagebox.showinfo(\"AWS Credentials\", \"Conexión exitosa con los tokens proporcionados.\")\n",
    "except SystemExit:\n",
    "    print(\"El usuario decidió salir del programa sin ingresar nuevos tokens.\")\n",
    "\n",
    "\n",
    "athena_client = connect(\"athena\") # No modificar\n",
    "s3_client = connect(\"s3\") # No modificar\n",
    "glue_client = connect(\"glue\") # No modificar\n",
    "\n",
    "s3_bucket = \"interbank-datalake-us-east-1-428938305480-discovery\" # No modificar \n",
    "carpet_prefix = \"ifrs/discovery/discovery_riesgos_calibracion\" # No modificar\n",
    "\n",
    "year = datetime.now().year\n",
    "\n",
    "##############################################################################################################\n",
    "\n",
    "\n",
    "# Crear la ventana principal\n",
    "root = tk.Tk()\n",
    "root.title(\"Entrada de datos\")\n",
    "root.geometry(\"300x470\")  # Ajustar el tamaño de la ventana\n",
    "\n",
    "# Crear el Notebook (pestañas)\n",
    "notebook = ttk.Notebook(root)\n",
    "notebook.pack(pady=10, expand=True)\n",
    "\n",
    "# Crear las pestañas\n",
    "submit_tab = ttk.Frame(notebook)\n",
    "download_tab = ttk.Frame(notebook)\n",
    "\n",
    "notebook.add(submit_tab, text='Submit')\n",
    "notebook.add(download_tab, text='Download')\n",
    "\n",
    "# Crear el contenido de cada pestaña\n",
    "create_submit_tab(root, submit_tab)\n",
    "create_download_tab(root, download_tab)\n",
    "root.mainloop()\n",
    "root.destroy()\n"
   ]
  },
  {
   "cell_type": "code",
   "execution_count": null,
   "metadata": {},
   "outputs": [],
   "source": []
  }
 ],
 "metadata": {
  "kernelspec": {
   "display_name": "env_impactos",
   "language": "python",
   "name": "python3"
  },
  "language_info": {
   "codemirror_mode": {
    "name": "ipython",
    "version": 3
   },
   "file_extension": ".py",
   "mimetype": "text/x-python",
   "name": "python",
   "nbconvert_exporter": "python",
   "pygments_lexer": "ipython3",
   "version": "3.10.1"
  }
 },
 "nbformat": 4,
 "nbformat_minor": 2
}
